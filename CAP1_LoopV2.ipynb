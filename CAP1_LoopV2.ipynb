{
 "cells": [
  {
   "cell_type": "code",
   "execution_count": 1,
   "id": "fedd129b-2be5-41cc-b2b6-75496f037e22",
   "metadata": {},
   "outputs": [],
   "source": [
    "import torch \n",
    "import numpy as np\n",
    "import matplotlib.pyplot as plt\n",
    "import plotly\n",
    "import os\n",
    "from sklearn.gaussian_process import GaussianProcessRegressor"
   ]
  },
  {
   "cell_type": "markdown",
   "id": "1f85b125-dd58-4cc3-9e30-dfe087ba31cb",
   "metadata": {},
   "source": [
    "## Dummy Function for Testing"
   ]
  },
  {
   "cell_type": "code",
   "execution_count": 2,
   "id": "b897f081-2e96-4ab2-aa8b-fcf9a2bffdb1",
   "metadata": {},
   "outputs": [],
   "source": [
    "noise_level = 0.1\n",
    "np.random.seed(42)\n",
    "\n",
    "def function1(x1,x2, noise_level=noise_level):\n",
    "    result = np.sin(5 * x1+4*x2) * (1 - np.tanh(x1 ** 2) - np.tanh(x2))\\\n",
    "           + np.random.randn() * noise_level\n",
    "    return result"
   ]
  },
  {
   "cell_type": "code",
   "execution_count": 3,
   "id": "9f9131d5-e5f3-452a-a209-215c8216c753",
   "metadata": {},
   "outputs": [],
   "source": [
    "def generate_initial_data(n):\n",
    "    train_X = torch.rand(n,2)\n",
    "    train_Y = [function1(train_X[i,0],train_X[i,1]) for i in range(len(train_X))]\n",
    "    train_Y = torch.tensor(train_Y).reshape(n,-1)\n",
    "    max_Y = np.max(train_Y.numpy())\n",
    "    return train_X, train_Y, max_Y"
   ]
  },
  {
   "cell_type": "code",
   "execution_count": 4,
   "id": "3de5181a-f7df-4cac-9c64-bbe75ab6b06c",
   "metadata": {},
   "outputs": [
    {
     "data": {
      "text/plain": [
       "ExactMarginalLogLikelihood(\n",
       "  (likelihood): GaussianLikelihood(\n",
       "    (noise_covar): HomoskedasticNoise(\n",
       "      (noise_prior): GammaPrior()\n",
       "      (raw_noise_constraint): GreaterThan(1.000E-04)\n",
       "    )\n",
       "  )\n",
       "  (model): SingleTaskGP(\n",
       "    (likelihood): GaussianLikelihood(\n",
       "      (noise_covar): HomoskedasticNoise(\n",
       "        (noise_prior): GammaPrior()\n",
       "        (raw_noise_constraint): GreaterThan(1.000E-04)\n",
       "      )\n",
       "    )\n",
       "    (mean_module): ConstantMean()\n",
       "    (covar_module): ScaleKernel(\n",
       "      (base_kernel): MaternKernel(\n",
       "        (lengthscale_prior): GammaPrior()\n",
       "        (raw_lengthscale_constraint): Positive()\n",
       "        (distance_module): Distance()\n",
       "      )\n",
       "      (outputscale_prior): GammaPrior()\n",
       "      (raw_outputscale_constraint): Positive()\n",
       "    )\n",
       "  )\n",
       ")"
      ]
     },
     "execution_count": 4,
     "metadata": {},
     "output_type": "execute_result"
    }
   ],
   "source": [
    "init_X, init_Y, best_init_Y = generate_initial_data(10)\n",
    "bounds = torch.stack([torch.zeros(2), torch.ones(2)])\n",
    "\n",
    "from botorch.models import SingleTaskGP\n",
    "from botorch  import fit_gpytorch_model\n",
    "\n",
    "from botorch.fit import fit_gpytorch_mll\n",
    "from gpytorch.mlls import ExactMarginalLogLikelihood\n",
    "from botorch.acquisition import UpperConfidenceBound\n",
    "from botorch.acquisition import qExpectedImprovement\n",
    "from botorch.acquisition import qNoisyExpectedImprovement\n",
    "from botorch.optim import optimize_acqf\n",
    "\n",
    "gp = SingleTaskGP(init_X, init_Y)\n",
    "mll = ExactMarginalLogLikelihood(gp.likelihood, gp)\n",
    "fit_gpytorch_mll(mll)"
   ]
  },
  {
   "cell_type": "code",
   "execution_count": 5,
   "id": "5ac0e85f-2ee7-4c27-8dd3-01096735d86b",
   "metadata": {},
   "outputs": [],
   "source": [
    "def get_next_points_UCB(init_X_UCB, init_Y_UCB, best_init_Y_UCB, bounds, n_points=1):\n",
    "    gp_UCB = SingleTaskGP(init_X_UCB, init_Y_UCB)\n",
    "    mll_UCB = ExactMarginalLogLikelihood(gp_UCB.likelihood, gp_UCB)\n",
    "    fit_gpytorch_mll(mll_UCB)\n",
    "    \n",
    "    UCB = UpperConfidenceBound(gp_UCB, beta=0.1)\n",
    "    candidate_UCB, acq_value = optimize_acqf(\n",
    "    UCB, bounds=bounds, q=1, num_restarts=20, raw_samples=100,\n",
    ")\n",
    "    return candidate_UCB\n",
    "\n",
    "def get_next_points_EI(init_X_EI, init_Y_EI, best_init_Y_EI, bounds, n_points=1):\n",
    "    gp_EI = SingleTaskGP(init_X_EI, init_Y_EI)\n",
    "    mll_EI = ExactMarginalLogLikelihood(gp_EI.likelihood, gp_EI)\n",
    "    fit_gpytorch_mll(mll_EI)\n",
    "    \n",
    "    expected_improvement = qExpectedImprovement(\n",
    "    model=gp_EI,\n",
    "    best_f=best_init_Y_EI)\n",
    "        \n",
    "    candidate_EI, acq_value = optimize_acqf(\n",
    "    expected_improvement, bounds=bounds, q=1, num_restarts=20, raw_samples=100\n",
    ")\n",
    "    return candidate_EI\n",
    "\n",
    "def get_next_points_NEI(init_X_NEI, init_Y_NEI, best_init_Y_NEI, bounds, n_points=1):\n",
    "    gp_NEI = SingleTaskGP(init_X_NEI, init_Y_NEI)\n",
    "    mll_NEI = ExactMarginalLogLikelihood(gp_NEI.likelihood, gp_NEI)\n",
    "    fit_gpytorch_mll(mll_NEI)\n",
    "    \n",
    "    Nexpected_improvement = qNoisyExpectedImprovement(\n",
    "    model=gp_NEI,\n",
    "    X_baseline=init_X_NEI,\n",
    "    best_f=best_init_Y_NEI)\n",
    "        \n",
    "    candidate_NEI, acq_value = optimize_acqf(\n",
    "    Nexpected_improvement, bounds=bounds, q=1, num_restarts=20, raw_samples=100\n",
    ")\n",
    "    return candidate_NEI\n"
   ]
  },
  {
   "cell_type": "code",
   "execution_count": 6,
   "id": "e1dc4d41-b0d6-44ff-8477-7dcc2862c102",
   "metadata": {},
   "outputs": [
    {
     "name": "stderr",
     "output_type": "stream",
     "text": [
      "C:\\Users\\paulg\\anaconda4\\lib\\site-packages\\botorch\\optim\\optimize.py:306: RuntimeWarning: Optimization failed in `gen_candidates_scipy` with the following warning(s):\n",
      "[OptimizationWarning('Optimization failed within `scipy.optimize.minimize` with status 2.')]\n",
      "Trying again with a new set of initial conditions.\n",
      "  warnings.warn(first_warn_msg, RuntimeWarning)\n",
      "C:\\Users\\paulg\\anaconda4\\lib\\site-packages\\botorch\\optim\\optimize.py:306: RuntimeWarning: Optimization failed in `gen_candidates_scipy` with the following warning(s):\n",
      "[OptimizationWarning('Optimization failed within `scipy.optimize.minimize` with status 2.')]\n",
      "Trying again with a new set of initial conditions.\n",
      "  warnings.warn(first_warn_msg, RuntimeWarning)\n",
      "C:\\Users\\paulg\\anaconda4\\lib\\site-packages\\botorch\\optim\\optimize.py:306: RuntimeWarning: Optimization failed in `gen_candidates_scipy` with the following warning(s):\n",
      "[OptimizationWarning('Optimization failed within `scipy.optimize.minimize` with status 2.')]\n",
      "Trying again with a new set of initial conditions.\n",
      "  warnings.warn(first_warn_msg, RuntimeWarning)\n",
      "C:\\Users\\paulg\\anaconda4\\lib\\site-packages\\botorch\\optim\\optimize.py:328: RuntimeWarning: Optimization failed on the second try, after generating a new set of initial conditions.\n",
      "  warnings.warn(\n",
      "C:\\Users\\paulg\\anaconda4\\lib\\site-packages\\botorch\\optim\\optimize.py:306: RuntimeWarning: Optimization failed in `gen_candidates_scipy` with the following warning(s):\n",
      "[OptimizationWarning('Optimization failed within `scipy.optimize.minimize` with status 2.')]\n",
      "Trying again with a new set of initial conditions.\n",
      "  warnings.warn(first_warn_msg, RuntimeWarning)\n",
      "C:\\Users\\paulg\\anaconda4\\lib\\site-packages\\botorch\\optim\\optimize.py:306: RuntimeWarning: Optimization failed in `gen_candidates_scipy` with the following warning(s):\n",
      "[OptimizationWarning('Optimization failed within `scipy.optimize.minimize` with status 2.')]\n",
      "Trying again with a new set of initial conditions.\n",
      "  warnings.warn(first_warn_msg, RuntimeWarning)\n",
      "C:\\Users\\paulg\\anaconda4\\lib\\site-packages\\botorch\\optim\\optimize.py:306: RuntimeWarning: Optimization failed in `gen_candidates_scipy` with the following warning(s):\n",
      "[OptimizationWarning('Optimization failed within `scipy.optimize.minimize` with status 2.')]\n",
      "Trying again with a new set of initial conditions.\n",
      "  warnings.warn(first_warn_msg, RuntimeWarning)\n"
     ]
    }
   ],
   "source": [
    "#####Loop\n",
    "n_runs = 20\n",
    "i_data = 20\n",
    "\n",
    "init_X, init_Y, best_init_Y = generate_initial_data(i_data)\n",
    "bounds = torch.stack([torch.zeros(2), torch.ones(2)])\n",
    "\n",
    "init_X_EI = init_X\n",
    "init_Y_EI = init_Y\n",
    "best_init_Y_EI = best_init_Y\n",
    "best_running_Y_EI = []\n",
    "\n",
    "init_X_NEI = init_X\n",
    "init_Y_NEI = init_Y\n",
    "best_init_Y_NEI = best_init_Y\n",
    "best_running_Y_NEI = []\n",
    "\n",
    "init_X_UCB = init_X\n",
    "init_Y_UCB = init_Y\n",
    "best_init_Y_UCB = best_init_Y\n",
    "best_running_Y_UCB = []\n",
    "\n",
    "for i in range (n_runs):\n",
    "    new_candidates = get_next_points_EI(init_X_EI, init_Y_EI, best_init_Y_EI, bounds, n_points=1)\n",
    "    x1,x2 = new_candidates.numpy()[0][0],new_candidates.numpy()[0][1]\n",
    "    new_results = function1(x1,x2)\n",
    "    new_results = torch.tensor(new_results).unsqueeze(-1)\n",
    "    init_X_EI = torch.cat([init_X_EI, new_candidates])\n",
    "    init_Y_EI = torch.cat([init_Y_EI, new_results.unsqueeze(-1)])    \n",
    "    best_init_Y_EI = init_Y_EI.max().item()\n",
    "    best_running_Y_EI.append(best_init_Y_EI)\n",
    "\n",
    "    new_candidates = get_next_points_NEI(init_X_NEI, init_Y_NEI, best_init_Y_NEI, bounds, n_points=1)\n",
    "    x1,x2 = new_candidates.numpy()[0][0],new_candidates.numpy()[0][1]\n",
    "    new_results = function1(x1,x2)\n",
    "    new_results = torch.tensor(new_results).unsqueeze(-1)\n",
    "    init_X_NEI = torch.cat([init_X_NEI, new_candidates])\n",
    "    init_Y_NEI = torch.cat([init_Y_NEI, new_results.unsqueeze(-1)])    \n",
    "    best_init_Y_NEI = init_Y_NEI.max().item()\n",
    "    best_running_Y_NEI.append(best_init_Y_NEI)\n",
    "    \n",
    "    new_candidates = get_next_points_UCB(init_X_UCB, init_Y_UCB, best_init_Y_UCB, bounds, n_points=1)\n",
    "    x1,x2 = new_candidates.numpy()[0][0],new_candidates.numpy()[0][1]\n",
    "    new_results = function1(x1,x2)\n",
    "    new_results = torch.tensor(new_results).unsqueeze(-1)\n",
    "    init_X_UCB = torch.cat([init_X_UCB, new_candidates])\n",
    "    init_Y_UCB = torch.cat([init_Y_UCB, new_results.unsqueeze(-1)])\n",
    "    best_init_Y_UCB = init_Y_UCB.max().item()\n",
    "    best_running_Y_UCB.append(best_init_Y_UCB)"
   ]
  },
  {
   "cell_type": "code",
   "execution_count": 7,
   "id": "00ec5eeb-c4c6-43f1-b848-134cb621c33c",
   "metadata": {},
   "outputs": [
    {
     "name": "stdout",
     "output_type": "stream",
     "text": [
      "Best initial Y was = 0.8247666358947754\n",
      "EI function improved to = 0.9279191953294146\n",
      "NEI function improved to = 1.0643797470307117\n",
      "UCB function improved to = 1.024502737353515\n"
     ]
    }
   ],
   "source": [
    "print(f'Best initial Y was = {best_init_Y}') \n",
    "print(f'EI function improved to = {best_init_Y_EI}') \n",
    "print(f'NEI function improved to = {best_init_Y_NEI}') \n",
    "print(f'UCB function improved to = {best_init_Y_UCB}') "
   ]
  },
  {
   "cell_type": "code",
   "execution_count": 8,
   "id": "9f1edaf9-72d8-4a5c-ba48-a6ea8e2bc8b0",
   "metadata": {},
   "outputs": [
    {
     "data": {
      "text/plain": [
       "<matplotlib.legend.Legend at 0x1fb3519d4f0>"
      ]
     },
     "execution_count": 8,
     "metadata": {},
     "output_type": "execute_result"
    },
    {
     "data": {
      "image/png": "[encoded data removed]",
      "text/plain": [
       "<Figure size 432x288 with 1 Axes>"
      ]
     },
     "metadata": {
      "needs_background": "light"
     },
     "output_type": "display_data"
    }
   ],
   "source": [
    "from matplotlib import pyplot as plt\n",
    "\n",
    "plt.plot(best_running_Y_EI, label = 'EI')\n",
    "plt.plot(best_running_Y_UCB, label = 'UCB')\n",
    "plt.plot(best_running_Y_NEI, label = 'NEI')\n",
    "plt.xlabel('Run number')\n",
    "plt.ylabel('Best_Y')\n",
    "plt.title('Analysis of Acquisition Fucntion')\n",
    "plt.legend()"
   ]
  }
 ],
 "metadata": {
  "kernelspec": {
   "display_name": "Python 3 (ipykernel)",
   "language": "python",
   "name": "python3"
  },
  "language_info": {
   "codemirror_mode": {
    "name": "ipython",
    "version": 3
   },
   "file_extension": ".py",
   "mimetype": "text/x-python",
   "name": "python",
   "nbconvert_exporter": "python",
   "pygments_lexer": "ipython3",
   "version": "3.9.12"
  }
 },
 "nbformat": 4,
 "nbformat_minor": 5
}
